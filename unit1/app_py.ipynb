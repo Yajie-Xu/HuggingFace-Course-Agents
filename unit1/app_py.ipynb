{
  "nbformat": 4,
  "nbformat_minor": 0,
  "metadata": {
    "colab": {
      "provenance": [],
      "authorship_tag": "ABX9TyOtBCB2tuHZxaixPWcX4XZ7",
      "include_colab_link": true
    },
    "kernelspec": {
      "name": "python3",
      "display_name": "Python 3"
    },
    "language_info": {
      "name": "python"
    }
  },
  "cells": [
    {
      "cell_type": "markdown",
      "metadata": {
        "id": "view-in-github",
        "colab_type": "text"
      },
      "source": [
        "<a href=\"https://colab.research.google.com/github/Yajie-Xu/HuggingFace-Course-Agents/blob/main/unit1/app_py.ipynb\" target=\"_parent\"><img src=\"https://colab.research.google.com/assets/colab-badge.svg\" alt=\"Open In Colab\"/></a>"
      ]
    },
    {
      "cell_type": "code",
      "execution_count": 1,
      "metadata": {
        "colab": {
          "base_uri": "https://localhost:8080/",
          "height": 393
        },
        "id": "rhiPsNpmsX0B",
        "outputId": "1a580769-8009-4e51-a163-bd367fc7ca90"
      },
      "outputs": [
        {
          "output_type": "error",
          "ename": "ModuleNotFoundError",
          "evalue": "No module named 'smolagents'",
          "traceback": [
            "\u001b[0;31m---------------------------------------------------------------------------\u001b[0m",
            "\u001b[0;31mModuleNotFoundError\u001b[0m                       Traceback (most recent call last)",
            "\u001b[0;32m<ipython-input-1-21e9b795386c>\u001b[0m in \u001b[0;36m<cell line: 0>\u001b[0;34m()\u001b[0m\n\u001b[0;32m----> 1\u001b[0;31m \u001b[0;32mfrom\u001b[0m \u001b[0msmolagents\u001b[0m \u001b[0;32mimport\u001b[0m \u001b[0mCodeAgent\u001b[0m\u001b[0;34m,\u001b[0m\u001b[0mDuckDuckGoSearchTool\u001b[0m\u001b[0;34m,\u001b[0m \u001b[0mHfApiModel\u001b[0m\u001b[0;34m,\u001b[0m\u001b[0mload_tool\u001b[0m\u001b[0;34m,\u001b[0m\u001b[0mtool\u001b[0m\u001b[0;34m\u001b[0m\u001b[0;34m\u001b[0m\u001b[0m\n\u001b[0m\u001b[1;32m      2\u001b[0m \u001b[0;32mimport\u001b[0m \u001b[0mdatetime\u001b[0m\u001b[0;34m\u001b[0m\u001b[0;34m\u001b[0m\u001b[0m\n\u001b[1;32m      3\u001b[0m \u001b[0;32mimport\u001b[0m \u001b[0mrequests\u001b[0m\u001b[0;34m\u001b[0m\u001b[0;34m\u001b[0m\u001b[0m\n\u001b[1;32m      4\u001b[0m \u001b[0;32mimport\u001b[0m \u001b[0mpytz\u001b[0m\u001b[0;34m\u001b[0m\u001b[0;34m\u001b[0m\u001b[0m\n\u001b[1;32m      5\u001b[0m \u001b[0;32mimport\u001b[0m \u001b[0myaml\u001b[0m\u001b[0;34m\u001b[0m\u001b[0;34m\u001b[0m\u001b[0m\n",
            "\u001b[0;31mModuleNotFoundError\u001b[0m: No module named 'smolagents'",
            "",
            "\u001b[0;31m---------------------------------------------------------------------------\u001b[0;32m\nNOTE: If your import is failing due to a missing package, you can\nmanually install dependencies using either !pip or !apt.\n\nTo view examples of installing some common dependencies, click the\n\"Open Examples\" button below.\n\u001b[0;31m---------------------------------------------------------------------------\u001b[0m\n"
          ],
          "errorDetails": {
            "actions": [
              {
                "action": "open_url",
                "actionText": "Open Examples",
                "url": "/notebooks/snippets/importing_libraries.ipynb"
              }
            ]
          }
        }
      ],
      "source": [
        "from smolagents import CodeAgent,DuckDuckGoSearchTool, HfApiModel,load_tool,tool\n",
        "import datetime\n",
        "import requests\n",
        "import pytz\n",
        "import yaml\n",
        "from tools.final_answer import FinalAnswerTool\n",
        "\n",
        "from Gradio_UI import GradioUI\n",
        "\n",
        "# Below is an example of a tool that does nothing. Amaze us with your creativity !\n",
        "@tool\n",
        "def food_nutrition(food: str) -> str:\n",
        "    \"\"\"A tool that takes a food name as input and performs a web search\n",
        "    to find its calories, fat, carbs, and protein per 100g.\n",
        "\n",
        "    Args:\n",
        "        food: A string representing a food item.\n",
        "\n",
        "    Returns:\n",
        "        A formatted string containing nutritional information.\n",
        "    \"\"\"\n",
        "    try:\n",
        "        search_tool = DuckDuckGoSearchTool()  # Requires smolagents\n",
        "        query = f\"Nutritional facts per 100g of {food} (calories, fat, carbs, protein)\"\n",
        "        results = search_tool(query)\n",
        "\n",
        "        if results:\n",
        "            # You will need to extract actual values from the results.\n",
        "            # For now, here are mock placeholders:\n",
        "            calories = \"XXX kcal\"\n",
        "            fat = \"YY g\"\n",
        "            carbs = \"ZZ g\"\n",
        "            protein = \"WW g\"\n",
        "\n",
        "            return (\n",
        "                f\"Nutritional information for 100g of {food}:\\n\"\n",
        "                f\" * Calories: {calories}\\n\"\n",
        "                f\" * Fat: {fat}\\n\"\n",
        "                f\" * Carbs: {carbs}\\n\"\n",
        "                f\" * Protein: {protein}\"\n",
        "            )\n",
        "        else:\n",
        "            return f\"Sorry, I couldn't find any nutritional data for {food}.\"\n",
        "\n",
        "    except Exception as e:\n",
        "        return f\"Error fetching nutritional facts for '{food}': {e}. Please check the spelling or try another food.\"\n",
        "\n",
        "# def my_custom_tool(arg1:str, arg2:int)-> str: #it's import to specify the return type\n",
        "#     #Keep this format for the description / args / args description but feel free to modify the tool\n",
        "#     \"\"\"A tool that does nothing yet\n",
        "#     Args:\n",
        "#         arg1: the first argument\n",
        "#         arg2: the second argument\n",
        "#     \"\"\"\n",
        "#     return \"What magic will you build ?\"\n",
        "\n",
        "# def food_nutrition(food: str) -> str:\n",
        "#     \"\"\"A tool that takes a food name as an input and performs a web search to find its calories, fat, carbs and protein.\n",
        "#     Args:\n",
        "#         food: a string representing a food\n",
        "#     \"\"\"\n",
        "#     try:\n",
        "#         search_tool = DuckDuckGoSearchTool() # Doc: Agents - Guided tour: https://huggingface.co/docs/smolagents/en/guided_tour\n",
        "#         query = f\"What are the calories, fat, carbs and protein of one 100g of this {food}\"\n",
        "#         results = search_tool(query)\n",
        "\n",
        "#         if results:\n",
        "#             return f\"The nutrition factor of {food} per 100g is:\\\\\n",
        "#             \\n * Calories: results_calory;\\\\\n",
        "#             \\n * Carbs: results_fat;\\\\\n",
        "#             \\n * Protein: results_potein.\\\\\n",
        "#             \\n * Fat: results_fat;\"\n",
        "\n",
        "#         return f\"You've stumped me - I don't know what the best pizza in {city} could be.\"\n",
        "#     except Exception as e:\n",
        "#         return f'Error fetching the nutrition fact for {food}. Could you exman your spelling or provide me another food?'\n",
        "\n",
        "@tool\n",
        "def get_current_time_in_timezone(timezone: str) -> str:\n",
        "    \"\"\"A tool that fetches the current local time in a specified timezone.\n",
        "    Args:\n",
        "        timezone: A string representing a valid timezone (e.g., 'America/New_York').\n",
        "    \"\"\"\n",
        "    try:\n",
        "        # Create timezone object\n",
        "        tz = pytz.timezone(timezone)\n",
        "        # Get current time in that timezone\n",
        "        local_time = datetime.datetime.now(tz).strftime(\"%Y-%m-%d %H:%M:%S\")\n",
        "        return f\"The current local time in {timezone} is: {local_time}\"\n",
        "    except Exception as e:\n",
        "        return f\"Error fetching time for timezone '{timezone}': {str(e)}\"\n",
        "\n",
        "\n",
        "final_answer = FinalAnswerTool()\n",
        "\n",
        "# If the agent does not answer, the model is overloaded, please use another model or the following Hugging Face Endpoint that also contains qwen2.5 coder:\n",
        "# model_id='https://pflgm2locj2t89co.us-east-1.aws.endpoints.huggingface.cloud'\n",
        "\n",
        "model = HfApiModel(\n",
        "max_tokens=2096,\n",
        "temperature=0.5,\n",
        "model_id='Qwen/Qwen2.5-Coder-32B-Instruct',# it is possible that this model may be overloaded\n",
        "custom_role_conversions=None,\n",
        ")\n",
        "\n",
        "\n",
        "# Import tool from Hub\n",
        "image_generation_tool = load_tool(\"agents-course/text-to-image\", trust_remote_code=True)\n",
        "\n",
        "with open(\"prompts.yaml\", 'r') as stream:\n",
        "    prompt_templates = yaml.safe_load(stream)\n",
        "\n",
        "agent = CodeAgent(\n",
        "    model=model,\n",
        "    tools=[final_answer], ## add your tools here (don't remove final answer)\n",
        "    max_steps=6,\n",
        "    verbosity_level=1,\n",
        "    grammar=None,\n",
        "    planning_interval=None,\n",
        "    name=None,\n",
        "    description=None,\n",
        "    prompt_templates=prompt_templates\n",
        ")\n",
        "\n",
        "\n",
        "GradioUI(agent).launch()"
      ]
    },
    {
      "cell_type": "code",
      "source": [],
      "metadata": {
        "id": "AvKPBFsw3akD"
      },
      "execution_count": null,
      "outputs": []
    }
  ]
}