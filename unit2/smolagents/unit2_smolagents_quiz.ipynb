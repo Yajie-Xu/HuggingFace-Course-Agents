{
  "nbformat": 4,
  "nbformat_minor": 0,
  "metadata": {
    "colab": {
      "provenance": [],
      "authorship_tag": "ABX9TyO+dt7eLZh4lqGl/xp2Hwab",
      "include_colab_link": true
    },
    "kernelspec": {
      "name": "python3",
      "display_name": "Python 3"
    },
    "language_info": {
      "name": "python"
    }
  },
  "cells": [
    {
      "cell_type": "markdown",
      "metadata": {
        "id": "view-in-github",
        "colab_type": "text"
      },
      "source": [
        "<a href=\"https://colab.research.google.com/github/Yajie-Xu/HuggingFace-Course-Agents/blob/main/unit2/smolagents/unit2_smolagents_quiz.ipynb\" target=\"_parent\"><img src=\"https://colab.research.google.com/assets/colab-badge.svg\" alt=\"Open In Colab\"/></a>"
      ]
    },
    {
      "cell_type": "markdown",
      "source": [
        "# Code Review Complete! 📚"
      ],
      "metadata": {
        "id": "s3mOKhChIMOr"
      }
    },
    {
      "cell_type": "markdown",
      "source": [
        "This feedback should help you improve your skills.\n",
        "\n",
        "⛔️ The feedback uses `Qwen/Qwen2.5-Coder-32B-Instruct` to compare your response to a gold standard solution. As we know, LLMs are not perfect. You should compare your work against the assessment criteria if you doubt the feedback.\n",
        "\n",
        "Here's your detailed feedback:\n",
        "\n",
        "## Question 1: Create a Basic Code Agent with Web Search Capability\n",
        "\n",
        "Your Solution:"
      ],
      "metadata": {
        "id": "GWKPimO7IS5f"
      }
    },
    {
      "cell_type": "code",
      "execution_count": null,
      "metadata": {
        "id": "20KEhrNkIEbP"
      },
      "outputs": [],
      "source": [
        "# Create a CodeAgent with DuckDuckGo search capability\n",
        "from smolagents import (\n",
        "    CodeAgent,\n",
        "    DuckDuckGoSearchTool,\n",
        "    HfApiModel,\n",
        "    FinalAnswerTool,\n",
        "    Tool,\n",
        "    tool,\n",
        ")\n",
        "\n",
        "agent = CodeAgent(\n",
        "    tools=[DuckDuckGoSearchTool()],  # Add search tool here\n",
        "    model=HfApiModel(),  # Add model here\n",
        ")"
      ]
    },
    {
      "cell_type": "markdown",
      "source": [
        "Reference Solution:\n"
      ],
      "metadata": {
        "id": "mK0BHD19IhAl"
      }
    },
    {
      "cell_type": "code",
      "source": [
        "from smolagents import CodeAgent, DuckDuckGoSearchTool, HfApiModel\n",
        "\n",
        "agent = CodeAgent(\n",
        "    tools=[DuckDuckGoSearchTool()],\n",
        "    model=HfApiModel(\"Qwen/Qwen2.5-Coder-32B-Instruct\")\n",
        ")"
      ],
      "metadata": {
        "id": "uMwj9GdnIiKF"
      },
      "execution_count": null,
      "outputs": []
    },
    {
      "cell_type": "markdown",
      "source": [
        "**Assessment Criteria:**\n",
        "* Correct imports are included\n",
        "* DuckDuckGoSearchTool is added to tools list\n",
        "* HfApiModel is properly configured\n",
        "* Model ID is correctly specified\n",
        "\n",
        "**Feedback:**\n",
        "\n",
        "Overall Assessment\n",
        "\n",
        "The student's solution is mostly correct but has a few issues that need to be addressed to fully meet the assessment criteria.\n",
        "\n",
        "Correct imports are included\n",
        "\n",
        "✅ The student has imported all necessary modules, including the additional ones that are not required for the basic solution. This is acceptable as long as they are not used elsewhere in the code.\n",
        "\n",
        "DuckDuckGoSearchTool is added to tools list\n",
        "\n",
        "✅ The student has correctly added the DuckDuckGoSearchTool to the tools list.\n",
        "\n",
        "HfApiModel is properly configured\n",
        "\n",
        "❌ The student has not specified the model ID for the HfApiModel, which is required for the model to function correctly.\n",
        "\n",
        "Model ID is correctly specified\n",
        "\n",
        "❌ The student has not provided the model ID 'Qwen/Qwen2.5-Coder-32B-Instruct' as specified in the reference solution.\n",
        "\n",
        "\n",
        "\n",
        "---\n",
        "\n"
      ],
      "metadata": {
        "id": "7OzEOQVuIklI"
      }
    },
    {
      "cell_type": "markdown",
      "source": [
        "## Question 2: Set Up a Multi-Agent System with Manager and Web Search Agents\n",
        "\n",
        "Your Solution:"
      ],
      "metadata": {
        "id": "qySrk55JJGRq"
      }
    },
    {
      "cell_type": "code",
      "source": [
        "# Create web agent and manager agent structure\n",
        "model = HfApiModel(\n",
        "    \"Qwen/Qwen2.5-Coder-32B-Instruct\", provider=\"together\", max_tokens=8096\n",
        ")\n",
        "web_agent = ToolCallingAgent(\n",
        "    tools=[DuckDuckGoSearchTool()],  # Add required tools\n",
        "    model=model,  # Add model\n",
        "    max_steps=10,  # Adjust steps\n",
        "    name=\"web_agent\",  # Add name\n",
        "    description=\"Browses the web to find information\",  # Add description\n",
        "    verbosity_level=0,\n",
        ")\n",
        "\n",
        "manager_agent = CodeAgent(\n",
        "    model=HfApiModel(\"deepseek-ai/DeepSeek-R1\", provider=\"together\", max_tokens=8096),\n",
        "    # tools=[calculate_cargo_travel_time],\n",
        "    managed_agents=[web_agent],\n",
        "    additional_authorized_imports=[\n",
        "        \"geopandas\",\n",
        "        \"plotly\",\n",
        "        \"shapely\",\n",
        "        \"json\",\n",
        "        \"pandas\",\n",
        "        \"numpy\",\n",
        "    ],\n",
        "    planning_interval=5,\n",
        "    verbosity_level=2,\n",
        "    # final_answer_checks=[check_reasoning_and_plot],\n",
        "    max_steps=15,\n",
        ")"
      ],
      "metadata": {
        "id": "uzgBJlEnJDhP"
      },
      "execution_count": null,
      "outputs": []
    },
    {
      "cell_type": "markdown",
      "source": [
        "Reference Solution:\n"
      ],
      "metadata": {
        "id": "aVnkPsMdJL-0"
      }
    },
    {
      "cell_type": "code",
      "source": [
        "web_agent = ToolCallingAgent(\n",
        "    tools=[DuckDuckGoSearchTool(), visit_webpage],\n",
        "    model=model,\n",
        "    max_steps=10,\n",
        "    name=\"search\",\n",
        "    description=\"Runs web searches for you.\"\n",
        ")\n",
        "\n",
        "manager_agent = CodeAgent(\n",
        "    tools=[],\n",
        "    model=model,\n",
        "    managed_agents=[web_agent],\n",
        "    additional_authorized_imports=[\"time\", \"numpy\", \"pandas\"]\n",
        ")"
      ],
      "metadata": {
        "id": "PrxaFw9bJOOe"
      },
      "execution_count": null,
      "outputs": []
    },
    {
      "cell_type": "markdown",
      "source": [
        "**Assessment Criteria:**\n",
        "*   Web agent has correct tools configured\n",
        "*   Manager agent properly references web agent\n",
        "*   Appropriate max_steps value is set\n",
        "*   Required imports are authorized\n",
        "\n",
        "\n",
        "**Feedback:**\n",
        "\n",
        "Overall Assessment\n",
        "\n",
        "The student's solution meets the assessment criteria with some minor differences in approach and tool configuration. The web agent has the correct tools configured, the manager agent properly references the web agent, and the required imports are authorized. However, there are some discrepancies in the model used for the web agent and the manager agent, and the max_steps value is set differently for each agent. Additionally, the verbosity_level and planning_interval parameters are set in the student's solution, which are not present in the reference solution. These differences do not affect the overall functionality of the solution, but they should be noted for consistency and clarity.\n",
        "\n",
        "Web agent has correct tools configured\n",
        "\n",
        "✅ The web agent is configured with the DuckDuckGoSearchTool, which is the correct tool for web searches.\n",
        "\n",
        "Manager agent properly references web agent\n",
        "\n",
        "✅ The manager agent is configured with the web agent as a managed agent, which is the correct reference.\n",
        "\n",
        "Appropriate max_steps value is set\n",
        "\n",
        "❌ The web agent has a max_steps value of 10, while the manager agent has a max_steps value of 15. These values are different from the reference solution, which sets the max_steps value to 10 for the web agent. The difference in max_steps values between the web agent and the manager agent should be consistent with the intended functionality of the system.\n",
        "\n",
        "Required imports are authorized\n",
        "\n",
        "✅ The manager agent is configured with the required imports, including 'geopandas', 'plotly', 'shapely', 'json', 'pandas', and 'numpy'.\n",
        "\n",
        "\n",
        "\n",
        "---\n",
        "\n"
      ],
      "metadata": {
        "id": "ldRcJoPOJRTm"
      }
    },
    {
      "cell_type": "markdown",
      "source": [
        "##Question 3: Configure Agent Security Settings\n",
        "\n",
        "Your Solution:"
      ],
      "metadata": {
        "id": "2M7jjsaIJxlN"
      }
    },
    {
      "cell_type": "code",
      "source": [
        "pip install 'smolagents[e2b]'\n",
        "# Set up secure code execution environment\n",
        "from smolagents import HfApiModel, CodeAgent\n",
        "\n",
        "agent = CodeAgent(\n",
        "    tools=[],\n",
        "    model=model,\n",
        "    executor_type=\"e2b\"# Add security configuration\n",
        ")"
      ],
      "metadata": {
        "id": "M-PTey_eJ1ps"
      },
      "execution_count": null,
      "outputs": []
    },
    {
      "cell_type": "markdown",
      "source": [
        "Reference Solution:\n",
        "\n"
      ],
      "metadata": {
        "id": "HhnMtukvJ4Ai"
      }
    },
    {
      "cell_type": "code",
      "source": [
        "from smolagents import CodeAgent, E2BSandbox\n",
        "\n",
        "agent = CodeAgent(\n",
        "    tools=[],\n",
        "    model=model,\n",
        "    sandbox=E2BSandbox(),\n",
        "    additional_authorized_imports=[\"numpy\"]\n",
        ")"
      ],
      "metadata": {
        "id": "-nlHYQwaJ5rM"
      },
      "execution_count": null,
      "outputs": []
    },
    {
      "cell_type": "markdown",
      "source": [
        "**Assessment Criteria:**\n",
        "\n",
        "* E2B sandbox is properly configured\n",
        "* Authorized imports are appropriately limited\n",
        "* Security settings are correctly implemented\n",
        "* Basic agent configuration is maintained\n",
        "\n",
        "**Feedback:**\n",
        "\n",
        "Overall Assessment\n",
        "\n",
        "The student's solution has some issues that need to be addressed to meet the assessment criteria.\n",
        "\n",
        "E2B sandbox is properly configured\n",
        "\n",
        "❌ The student's solution does not use the E2BSandbox class as specified in the reference solution. Instead, it uses an executor_type parameter which is not mentioned in the reference solution. This indicates that the E2B sandbox is not properly configured.\n",
        "\n",
        "Authorized imports are appropriately limited\n",
        "\n",
        "❌ The student's solution does not specify any authorized imports, which is a requirement according to the reference solution. The reference solution specifies 'numpy' as an additional authorized import, but this is missing in the student's solution.\n",
        "\n",
        "Security settings are correctly implemented\n",
        "\n",
        "❌ The student's solution does not include any security settings. The reference solution does not explicitly mention security settings, but the use of the E2BSandbox class and the specification of authorized imports can be considered as part of the security settings. The student's solution does not meet these requirements.\n",
        "\n",
        "Basic agent configuration is maintained\n",
        "\n",
        "❌ The student's solution does not maintain the basic agent configuration as specified in the reference solution. The reference solution specifies the use of the CodeAgent class with a model parameter, but the student's solution does not provide a value for the model parameter. Additionally, the student's solution uses an executor_type parameter which is not mentioned in the reference solution.\n",
        "\n",
        "\n",
        "---\n",
        "\n"
      ],
      "metadata": {
        "id": "hzHi_mbTJ-xv"
      }
    },
    {
      "cell_type": "markdown",
      "source": [
        "## Question 4: Implement a Tool-Calling Agent\n",
        "\n",
        "Your Solution:"
      ],
      "metadata": {
        "id": "iSy39_UpKOW9"
      }
    },
    {
      "cell_type": "code",
      "source": [
        "# Create a tool-calling agent\n",
        "from smolagents import ToolCallingAgent\n",
        "\n",
        "agent = ToolCallingAgent(\n",
        "    tools=[],  # Add configuration here\n",
        "    model=model,\n",
        "    name=\"tool_calling\",\n",
        "    description=\"call a specific tool\",\n",
        "    verbosity_level=0,\n",
        "    max_steps=10,\n",
        ")"
      ],
      "metadata": {
        "id": "2Nix4_zCKRnP"
      },
      "execution_count": null,
      "outputs": []
    },
    {
      "cell_type": "markdown",
      "source": [
        "Reference Solution:"
      ],
      "metadata": {
        "id": "kAkYRNWkKTuC"
      }
    },
    {
      "cell_type": "code",
      "source": [
        "from smolagents import ToolCallingAgent\n",
        "\n",
        "agent = ToolCallingAgent(\n",
        "    tools=[custom_tool],\n",
        "    model=model,\n",
        "    max_steps=5,\n",
        "    name=\"tool_agent\",\n",
        "    description=\"Executes specific tools based on input\"\n",
        ")"
      ],
      "metadata": {
        "id": "j9_TljacKTNu"
      },
      "execution_count": null,
      "outputs": []
    },
    {
      "cell_type": "markdown",
      "source": [
        "**Assessment Criteria:**\n",
        "\n",
        "* Tools are properly configured\n",
        "* Step limit is set appropriately\n",
        "* Agent name and description are provided\n",
        "* Basic configuration is complete\n",
        "\n",
        "**Feedback:**\n",
        "\n",
        "Overall Assessment\n",
        "\n",
        "The student's solution is mostly correct but has some areas for improvement.\n",
        "\n",
        "Tools are properly configured\n",
        "\n",
        "❌ The tools list is empty, which means the agent will not be able to call any tools. The reference solution includes a custom_tool, which should be added to the tools list.\n",
        "\n",
        "Step limit is set appropriately\n",
        "\n",
        "✅ The step limit is set to 10, which is a reasonable number of steps for the agent to take. This meets the criteria.\n",
        "\n",
        "Agent name and description are provided\n",
        "\n",
        "✅ The agent name is set to 'tool_calling' and the description is set to 'call a specific tool'. These values are provided and meet the criteria.\n",
        "\n",
        "Basic configuration is complete\n",
        "\n",
        "❌ While the agent name, description, and step limit are provided, the tools list is empty, which is a critical part of the configuration. Therefore, the basic configuration is not complete.\n",
        "\n",
        "---"
      ],
      "metadata": {
        "id": "UFmq_02YKaRQ"
      }
    },
    {
      "cell_type": "markdown",
      "source": [
        "## Question 5: Set Up Model Integration\n",
        "Your Solution:"
      ],
      "metadata": {
        "id": "UiQ4VH22Km_6"
      }
    },
    {
      "cell_type": "code",
      "source": [
        "# Configure model integration\n",
        "from smolagents import CodeAgent, HfApiModel, DuckDuckGoSearchTool\n",
        "model = HfApiModel()\n",
        "\n",
        "web_agent = CodeAgent(\n",
        "  tools=[DuckDuckGoSearchTool()],\n",
        "  model=model,\n",
        "  name=\"web_search\",\n",
        "  description=\"Returns web searches for you. Give it your query as an argument.\",\n",
        ")\n",
        "manager_agent = CodeAgent(tools=[], model=model, managed_agents=[web_agent])"
      ],
      "metadata": {
        "id": "BtrqUc7lK3Kr"
      },
      "execution_count": null,
      "outputs": []
    },
    {
      "cell_type": "markdown",
      "source": [
        "Reference Solution:"
      ],
      "metadata": {
        "id": "g99GvJCCLNqW"
      }
    },
    {
      "cell_type": "code",
      "source": [
        "from smolagents import HfApiModel, LiteLLMModel\n",
        "# Hugging Face model\n",
        "hf_model = HfApiModel(\"Qwen/Qwen2.5-Coder-32B-Instruct\")\n",
        "\n",
        "# Alternative model via LiteLLM\n",
        "other_model = LiteLLMModel(\"anthropic/claude-3-sonnet\")"
      ],
      "metadata": {
        "id": "15go-YOhLOq5"
      },
      "execution_count": null,
      "outputs": []
    },
    {
      "cell_type": "markdown",
      "source": [
        "Assessment Criteria:\n",
        "\n",
        "* Correct model imports are included\n",
        "* Model is properly initialized\n",
        "* Model ID is correctly specified\n",
        "* Alternative model option is provided"
      ],
      "metadata": {
        "id": "Aj77rkW3LOHN"
      }
    }
  ]
}